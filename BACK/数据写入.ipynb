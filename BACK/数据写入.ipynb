{
 "cells": [
  {
   "cell_type": "code",
   "execution_count": 4,
   "metadata": {},
   "outputs": [],
   "source": [
    "import pymongo\n",
    "import json\n",
    "\n",
    "conn = pymongo.MongoClient()\n",
    "db = conn['medical'] # 创建数据库\n",
    "col = db['data'] # 获取collection，类似于关系数据库的表"
   ]
  },
  {
   "cell_type": "code",
   "execution_count": 5,
   "metadata": {},
   "outputs": [
    {
     "name": "stdout",
     "output_type": "stream",
     "text": [
      "8808\n"
     ]
    }
   ],
   "source": [
    "data_path = ('data/medical.json')\n",
    "count = 0\n",
    "for data in open(data_path,encoding='utf-8'):\n",
    "    data_json = json.loads(data)\n",
    "    del data_json['_id']\n",
    "    col.insert_one(data_json)\n",
    "    count += 1\n",
    "\n",
    "print(count)\n"
   ]
  }
 ],
 "metadata": {
  "interpreter": {
   "hash": "dbd3ba96b850d6ed0478274edee2f637e1244260ad3a481c6ae9ab36a0dcd069"
  },
  "kernelspec": {
   "display_name": "Python 3.8.9 ('.venv': venv)",
   "language": "python",
   "name": "python3"
  },
  "language_info": {
   "codemirror_mode": {
    "name": "ipython",
    "version": 3
   },
   "file_extension": ".py",
   "mimetype": "text/x-python",
   "name": "python",
   "nbconvert_exporter": "python",
   "pygments_lexer": "ipython3",
   "version": "3.8.9"
  },
  "orig_nbformat": 4
 },
 "nbformat": 4,
 "nbformat_minor": 2
}
